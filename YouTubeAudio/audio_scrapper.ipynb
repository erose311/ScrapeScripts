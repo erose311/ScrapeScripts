{
 "cells": [
  {
   "cell_type": "code",
   "execution_count": 2,
   "metadata": {},
   "outputs": [
    {
     "name": "stdout",
     "output_type": "stream",
     "text": [
      "Requirement already satisfied: pytube in c:\\users\\elaine mary rose\\anaconda3\\lib\\site-packages (12.1.0)\n",
      "\n",
      "[notice] A new release of pip available: 22.2 -> 22.3.1\n",
      "[notice] To update, run: python.exe -m pip install --upgrade pip\n",
      "Requirement already satisfied: ffmpy in c:\\users\\elaine mary rose\\anaconda3\\lib\\site-packages (0.3.0)\n",
      "\n",
      "[notice] A new release of pip available: 22.2 -> 22.3.1\n",
      "[notice] To update, run: python.exe -m pip install --upgrade pip\n"
     ]
    }
   ],
   "source": [
    "# Install and import required libraries\n",
    "!pip install pytube\n",
    "!pip install ffmpy\n",
    "from pytube import YouTube\n",
    "import os\n",
    "import ffmpy\n",
    "import subprocess"
   ]
  },
  {
   "cell_type": "code",
   "execution_count": 3,
   "metadata": {},
   "outputs": [],
   "source": [
    "yt_links = [link for link in open(\"YTLinks.txt\").read().splitlines()]"
   ]
  },
  {
   "cell_type": "code",
   "execution_count": 4,
   "metadata": {},
   "outputs": [],
   "source": [
    "# Download mp4 YouTube audio files from a list of YouTube links \n",
    "for link in yt_links:\n",
    "    try:\n",
    "        yt = YouTube(link)\n",
    "        audioTag = yt.streams.filter(file_extension='mp4').desc().first().itag\n",
    "        try:\n",
    "            stream = yt.streams.get_by_itag(audioTag)\n",
    "            stream.download(output_path = \"scraped/\")\n",
    "        except Exception as e:\n",
    "            print(f\"Error: {e}\")\n",
    "    except Exception as e:\n",
    "        print(f\"Error: Unable to find link {link}\")"
   ]
  },
  {
   "cell_type": "code",
   "execution_count": 13,
   "metadata": {},
   "outputs": [],
   "source": [
    "# Convert and download an mp4 audio file into a wav file \n",
    "\n",
    "inputdir = 'scraped/' # specify input directory that contains mp4 files.\n",
    "for filename in os.listdir(inputdir):\n",
    "    \n",
    "    # specify the input file path\n",
    "    input_file = inputdir + filename\n",
    "\n",
    "    # specify the output file path\n",
    "    output_file = inputdir + filename + '.wav'\n",
    "    \n",
    "    # use the FFmpeg library to convert the audio file\n",
    "    subprocess.run(['ffmpeg', '-i', input_file, output_file])\n",
    "\n",
    "    # download the converted audio file\n",
    "    with open(output_file, 'wb') as f:\n",
    "        f.write(subprocess.check_output(['ffmpeg', '-i', input_file, '-f', 'wav', '-']))\n"
   ]
  },
  {
   "cell_type": "code",
   "execution_count": null,
   "metadata": {},
   "outputs": [],
   "source": []
  }
 ],
 "metadata": {
  "kernelspec": {
   "display_name": "Python 3",
   "language": "python",
   "name": "python3"
  },
  "language_info": {
   "codemirror_mode": {
    "name": "ipython",
    "version": 3
   },
   "file_extension": ".py",
   "mimetype": "text/x-python",
   "name": "python",
   "nbconvert_exporter": "python",
   "pygments_lexer": "ipython3",
   "version": "3.8.5"
  }
 },
 "nbformat": 4,
 "nbformat_minor": 4
}
